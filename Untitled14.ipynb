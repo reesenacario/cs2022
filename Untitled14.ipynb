{
  "nbformat": 4,
  "nbformat_minor": 0,
  "metadata": {
    "colab": {
      "provenance": [],
      "collapsed_sections": [],
      "authorship_tag": "ABX9TyNEqfeuUr5H58B/A23FjfKN",
      "include_colab_link": true
    },
    "kernelspec": {
      "name": "python3",
      "display_name": "Python 3"
    },
    "language_info": {
      "name": "python"
    }
  },
  "cells": [
    {
      "cell_type": "markdown",
      "metadata": {
        "id": "view-in-github",
        "colab_type": "text"
      },
      "source": [
        "<a href=\"https://colab.research.google.com/github/reesenacario/cs2022/blob/main/Untitled14.ipynb\" target=\"_parent\"><img src=\"https://colab.research.google.com/assets/colab-badge.svg\" alt=\"Open In Colab\"/></a>"
      ]
    },
    {
      "cell_type": "markdown",
      "source": [
        "# **1102 Test**"
      ],
      "metadata": {
        "id": "5VCdFmlgsa8H"
      }
    },
    {
      "cell_type": "markdown",
      "source": [
        "Multiple Choice\n",
        "# **bold text**"
      ],
      "metadata": {
        "id": "UXj-fJMusiaV"
      }
    },
    {
      "cell_type": "markdown",
      "source": [
        "# **1.**\n",
        "\n",
        "\n"
      ],
      "metadata": {
        "id": "Z4alBETbsnJc"
      }
    },
    {
      "cell_type": "markdown",
      "source": [
        "Which following is the correct way to create a dictionary in Python?\n",
        "\n",
        "(A) students = { 'name' => 'alice' ; 'score' =>60 }\n",
        "\n",
        "(B) students = { 'name' = 'alice' ; 'score' =60 }\n",
        "\n",
        "(C) students = { 'name' : 'alice' ; 'score' : 60 }\n",
        "\n",
        "(D) students = { 'name' => 'alice' , 'score' =>60 }\n",
        "\n",
        "(E) students = { 'name' : 'alice' , 'score' : 60 }\n",
        "\n",
        "Answer: **E**"
      ],
      "metadata": {
        "id": "aF4RFIAWsnRt"
      }
    },
    {
      "cell_type": "markdown",
      "source": [
        "# **2. **"
      ],
      "metadata": {
        "id": "Z41XjPwTtHIM"
      }
    },
    {
      "cell_type": "markdown",
      "source": [
        "What does the following Python program fragment do?\n",
        "\n",
        "s=0 for i in range (3 , 10) : s+=i print (s)\n",
        "\n",
        "(A) Calculate the sum of 1+2+…+10\n",
        "\n",
        "(B) Calculate the sum of 1+4+7+10\n",
        "\n",
        "(C) Calculate the sum of 3+4+5+6+…+9\n",
        "\n",
        "(D) Calculate the sum of 3+4+5+6+…+10\n",
        "\n",
        "(E) Calculate the sum of 0+2+4+6+…+10\n",
        "\n",
        "Answer: **C**\n",
        "\n",
        "Explanation:\n",
        "\n",
        "3+4+5+6+7+8+9 #10 is not included"
      ],
      "metadata": {
        "id": "LfoQr7RvtCJd"
      }
    },
    {
      "cell_type": "code",
      "execution_count": 4,
      "metadata": {
        "colab": {
          "base_uri": "https://localhost:8080/"
        },
        "id": "gnAoKZzxsZE5",
        "outputId": "9f2bab7f-b7ea-49a7-beae-b556646f1a5d"
      },
      "outputs": [
        {
          "output_type": "stream",
          "name": "stdout",
          "text": [
            "42\n"
          ]
        }
      ],
      "source": [
        "3+4+5+6+7+8+9\n",
        "s=0\n",
        "for i in range (3 , 10) :\n",
        "  s+=i\n",
        "\n",
        "print (s)"
      ]
    },
    {
      "cell_type": "markdown",
      "source": [
        "# **3.**"
      ],
      "metadata": {
        "id": "TwAu7uXbtJbU"
      }
    },
    {
      "cell_type": "markdown",
      "source": [
        "What is the output of this code in Python?\n",
        "\n",
        "  list = [ ' a ' ,  ' b ' ,  ' c ' ,  ' d ' ,  ' e ' ]\n",
        "  print (list [ 1 : ])\n",
        "(A) [ ]\n",
        "\n",
        "(B) [ 'b' ]\n",
        "\n",
        "(C) [ 'a' , 'b' ]\n",
        "\n",
        "(D) [ 'b' , 'c' , 'd' , 'e' ]\n",
        "\n",
        "Answer: **D**"
      ],
      "metadata": {
        "id": "xA1WoVAhtv5c"
      }
    },
    {
      "cell_type": "code",
      "source": [
        "list = [ ' a ' ,  ' b ' ,  ' c ' ,  ' d ' ,  ' e ' ]\n",
        "print (list [ 1 : ])"
      ],
      "metadata": {
        "colab": {
          "base_uri": "https://localhost:8080/"
        },
        "id": "WDciKqYctx5s",
        "outputId": "cd7ac527-af0b-47e0-fd9b-acd4d4c58d0c"
      },
      "execution_count": 5,
      "outputs": [
        {
          "output_type": "stream",
          "name": "stdout",
          "text": [
            "[' b ', ' c ', ' d ', ' e ']\n"
          ]
        }
      ]
    },
    {
      "cell_type": "markdown",
      "source": [
        "# **4.**\n"
      ],
      "metadata": {
        "id": "pfR_4sRat2Qd"
      }
    },
    {
      "cell_type": "markdown",
      "source": [
        "What is the output of this code in Python?\n",
        "\n",
        "    L1 = [ ]\n",
        "    L1.append ( [1, [2, 3], 4] )\n",
        "    L1.extend ( [7, 8, 9] )\n",
        "    print(L1[0][1][1] + L1[2] )\n",
        "\n",
        "(A) 3 (B) 8 (C) 11 (D) 38 (E) None of these\n",
        "\n",
        "Answer: **C**"
      ],
      "metadata": {
        "id": "xQOUdL7mt3KN"
      }
    },
    {
      "cell_type": "code",
      "source": [
        "L1 = [ ]\n",
        "L1.append ( [1, [2, 3], 4] )\n",
        "L1.extend ( [7, 8, 9] )\n",
        "print(L1[0][1][1] + L1[2] )"
      ],
      "metadata": {
        "colab": {
          "base_uri": "https://localhost:8080/"
        },
        "id": "s3s5ycwat5D9",
        "outputId": "e43555c0-bc59-42f5-8b0d-14dfe5d3574d"
      },
      "execution_count": 6,
      "outputs": [
        {
          "output_type": "stream",
          "name": "stdout",
          "text": [
            "11\n"
          ]
        }
      ]
    },
    {
      "cell_type": "markdown",
      "source": [
        "# **5.**\n"
      ],
      "metadata": {
        "id": "JrOim9ZJuE8F"
      }
    },
    {
      "cell_type": "markdown",
      "source": [
        "What is the output of this code in python?\n",
        "\n",
        "    r = lambda q: q * 2\n",
        "    s = lambda q: q * 3\n",
        "    x = 2\n",
        "    x = r (x)\n",
        "    x = s (x)\n",
        "    x = r (x)\n",
        "    print (x)\n",
        "(A) 2 (B) 4 (C) 6 (D) 12 (E) 24\n",
        "\n",
        "Answer: **E**"
      ],
      "metadata": {
        "id": "6jNeX21WuGiF"
      }
    },
    {
      "cell_type": "code",
      "source": [
        " r = lambda q: q * 2\n",
        " s = lambda q: q * 3\n",
        " x = 2\n",
        " x = r (x)\n",
        " x = s (x)\n",
        " x = r (x)\n",
        " print (x)"
      ],
      "metadata": {
        "colab": {
          "base_uri": "https://localhost:8080/"
        },
        "id": "ulie8oQOuI4N",
        "outputId": "8e3ab21f-594d-4c8c-b86a-4890bb6bf151"
      },
      "execution_count": 11,
      "outputs": [
        {
          "output_type": "stream",
          "name": "stdout",
          "text": [
            "24\n"
          ]
        }
      ]
    },
    {
      "cell_type": "markdown",
      "source": [
        "# **6.**"
      ],
      "metadata": {
        "id": "Xt9qE6VJugB-"
      }
    },
    {
      "cell_type": "markdown",
      "source": [
        "Which of the following conditions correctly describes the output of this code in Python?\n",
        "\n",
        "     first = [1 , 2 , 3 , 4 , 5]\n",
        "     second = first\n",
        "     second.append (6)\n",
        "     print (first)\n",
        "     print (second)\n",
        "(A) first=[1, 2, 3, 4, 5], second=[1, 2, 3, 4, 5, 6]\n",
        "\n",
        "(B) first=[1, 2, 3, 4, 5, 6], second=[1, 2, 3, 4, 5]\n",
        "\n",
        "(C) first=[1, 2, 3, 4, 5], second=[1, 2, 3, 4, 5]\n",
        "\n",
        "(D) first=[1, 2, 3, 4, 5, 6], second=[1, 2, 3, 4, 5, 6]\n",
        "\n",
        "(E) None of these\n",
        "\n",
        "Answer: **D**"
      ],
      "metadata": {
        "id": "Ih7esob6uiwO"
      }
    },
    {
      "cell_type": "code",
      "source": [
        "first = [1 , 2 , 3 , 4 , 5]\n",
        "second = first\n",
        "second.append (6)\n",
        "print (first)\n",
        "print (second)"
      ],
      "metadata": {
        "colab": {
          "base_uri": "https://localhost:8080/"
        },
        "id": "2D-QzioIujcF",
        "outputId": "66022935-e3ee-4611-c7ff-c6a2e6095b10"
      },
      "execution_count": 10,
      "outputs": [
        {
          "output_type": "stream",
          "name": "stdout",
          "text": [
            "[1, 2, 3, 4, 5, 6]\n",
            "[1, 2, 3, 4, 5, 6]\n"
          ]
        }
      ]
    },
    {
      "cell_type": "markdown",
      "source": [
        "# **7.**"
      ],
      "metadata": {
        "id": "cGTSffJtunNm"
      }
    },
    {
      "cell_type": "markdown",
      "source": [
        "If the function int volume (int x = 1, int y = 1, int z = 1);\n",
        "\n",
        "is called by the expression volume (7,8),\n",
        "\n",
        "how many default arguments are used?\n",
        "\n",
        "(A) None (B) One (C) Two (D) Three\n",
        "\n",
        "(E) It depends on the runtime environment.\n",
        "\n",
        "Answer: **B**\n",
        "\n"
      ],
      "metadata": {
        "id": "YlDykNbgun-_"
      }
    },
    {
      "cell_type": "markdown",
      "source": [
        "## **B. reading comprehension:What is the output of this code in Python?**"
      ],
      "metadata": {
        "id": "9hn3Ctx4vRkB"
      }
    },
    {
      "cell_type": "code",
      "source": [
        "# primes.py\n",
        "primes = []  # this will contain the primes at the end\n",
        "upto = 100  # the limit, inclusive\n",
        "for n in range(2, upto + 1):\n",
        "    is_prime = True  # flag, new at each iteration of outer for\n",
        "    for divisor in range(2, n):\n",
        "        if n % divisor == 0:\n",
        "            is_prime = False\n",
        "            break\n",
        "    if is_prime:  # check on flag\n",
        "        primes.append(n)\n",
        "print(primes)\n",
        "# This is formatted as code\n",
        "\n",
        "Answer:"
      ],
      "metadata": {
        "colab": {
          "base_uri": "https://localhost:8080/"
        },
        "id": "KOZbRzQBuui9",
        "outputId": "65c3e47d-0e20-4d41-e580-931a25172309"
      },
      "execution_count": 12,
      "outputs": [
        {
          "output_type": "stream",
          "name": "stdout",
          "text": [
            "[2, 3, 5, 7, 11, 13, 17, 19, 23, 29, 31, 37, 41, 43, 47, 53, 59, 61, 67, 71, 73, 79, 83, 89, 97]\n"
          ]
        }
      ]
    },
    {
      "cell_type": "code",
      "source": [
        "EXPLANATION:\n",
        "\n",
        "# primes.py\n",
        "primes = []  # this will contain the primes at the end\n",
        "upto = 100  # the limit, inclusive\n",
        "for n in range(2, upto + 1):\n",
        "    is_prime = True  # flag, new at each iteration of outer for\n",
        "    for divisor in range(2, n):\n",
        "    if n % divisor == 0:\n",
        "        is_prime = False # if the remainder of n is equal to 0 then it is not included\n",
        "        break\n",
        "if is_prime:  # check on flag\n",
        "    primes.append(n) # if is_prime is true or the remainder of n is not    \n",
        "    equal to 0 then it will append or added in the list\n",
        "print(primes)"
      ],
      "metadata": {
        "id": "qCLxct2DwLX8"
      },
      "execution_count": null,
      "outputs": []
    },
    {
      "cell_type": "code",
      "source": [
        "B2.What is the output of this code in Python? explain it.\n",
        "\n",
        "# primes.else.py\n",
        "primes = []\n",
        "upto = 100\n",
        "for n in range(2, upto + 1):\n",
        "    for divisor in range(2, n):\n",
        "        if n % divisor == 0:\n",
        "            break\n",
        "    else:\n",
        "        primes.append(n)\n",
        "print(primes)\n",
        "Answer:"
      ],
      "metadata": {
        "id": "Pr6UdZG-wkLV"
      },
      "execution_count": null,
      "outputs": []
    },
    {
      "cell_type": "code",
      "source": [
        "# primes.else.py\n",
        "primes = []\n",
        "upto = 100\n",
        "for n in range(2, upto + 1):\n",
        "    for divisor in range(2, n):\n",
        "        if n % divisor == 0:\n",
        "            break\n",
        "    else:\n",
        "        primes.append(n)\n",
        "print(primes)\n",
        "# This is formatted as code\n"
      ],
      "metadata": {
        "colab": {
          "base_uri": "https://localhost:8080/"
        },
        "id": "Hd3eHWycwaFT",
        "outputId": "d27fb0a7-298b-4dac-da40-98de349d2a00"
      },
      "execution_count": 15,
      "outputs": [
        {
          "output_type": "stream",
          "name": "stdout",
          "text": [
            "[2, 3, 5, 7, 11, 13, 17, 19, 23, 29, 31, 37, 41, 43, 47, 53, 59, 61, 67, 71, 73, 79, 83, 89, 97]\n"
          ]
        }
      ]
    },
    {
      "cell_type": "code",
      "source": [
        "EXPLANATION: # primes.else.py\n",
        "\n",
        "primes = [] # will contain the prime numbers\n",
        "\n",
        "upto = 100 # limit\n",
        "\n",
        "for n in range(2, upto + 1):\n",
        "    for divisor in range(2, n):\n",
        "\n",
        "    if n % divisor == 0: # if the remainder of n is equal to 0 then it is not included\n",
        "        break\n",
        "else:\n",
        "    primes.append(n) # if the remainder of n is not equal to 0 then it will \n",
        "    append or added in the list\n",
        "print(primes)"
      ],
      "metadata": {
        "id": "uSfbNvu6wpV1"
      },
      "execution_count": null,
      "outputs": []
    },
    {
      "cell_type": "code",
      "source": [
        "B3.What is the output of this code in Python?explain it.\n",
        "\n",
        "cubes = [x**3 for x in range(1,6)]\n",
        "\n",
        "print(cubes)\n",
        "\n",
        "Answer:"
      ],
      "metadata": {
        "id": "ZQTSYHylwvxe"
      },
      "execution_count": null,
      "outputs": []
    },
    {
      "cell_type": "code",
      "source": [
        "cubes = [x**3 for x in range(1,6)]\n",
        "print(cubes)"
      ],
      "metadata": {
        "colab": {
          "base_uri": "https://localhost:8080/"
        },
        "id": "-JZhXss5wyM9",
        "outputId": "6547068f-7976-49ec-8eed-3fa0974fddec"
      },
      "execution_count": 16,
      "outputs": [
        {
          "output_type": "stream",
          "name": "stdout",
          "text": [
            "[1, 8, 27, 64, 125]\n"
          ]
        }
      ]
    },
    {
      "cell_type": "code",
      "source": [
        "EXPLANATION:\n",
        "\n",
        "range(1,6) == > 1,2,3,4,5 \n",
        "\n",
        "[x**3 for x in range(1,6)] ==> [1**3 , 2**3 , ...., 5**3] \n",
        "\n"
      ],
      "metadata": {
        "id": "4ccgbZxHw8Ye"
      },
      "execution_count": null,
      "outputs": []
    },
    {
      "cell_type": "code",
      "source": [
        "2**3\n",
        "\n"
      ],
      "metadata": {
        "colab": {
          "base_uri": "https://localhost:8080/"
        },
        "id": "HZ49dwGHxEjH",
        "outputId": "e3978a0b-f54a-4ba1-8cc9-8fa60bac955b"
      },
      "execution_count": 20,
      "outputs": [
        {
          "output_type": "execute_result",
          "data": {
            "text/plain": [
              "8"
            ]
          },
          "metadata": {},
          "execution_count": 20
        }
      ]
    },
    {
      "cell_type": "markdown",
      "source": [
        "# **C.Programming Python**"
      ],
      "metadata": {
        "id": "_keD3W7WwuFt"
      }
    },
    {
      "cell_type": "markdown",
      "source": [
        "The Fibonacci numbers may be defined by the recurrence relation\n",
        "\n",
        "F_{0}=0, F_{1}=1\n",
        "\n",
        "and\n",
        "\n",
        "F_{n} = F_{n-1} + F_{n-2} for n > 1.\n",
        "\n",
        "0,1,1,2,3,5,8,......\n",
        "\n",
        "Under some older definitions, the value F_{0}=0 is omitted,\n",
        "\n",
        "so that the sequence starts with F_{1}=F_{2}=1 and\n",
        "\n",
        "the recurrence F_{n}=F_{n-1}+F_{n-2} is valid for n > 2\n",
        "\n",
        "(1)Write a Python function/Program to Find Fibonacci Numbers using Recursion\n",
        "\n",
        "(2)use iterative Approach To Find the nth Term Of Fibonacci Sequence(You need to write a function using loop)"
      ],
      "metadata": {
        "id": "NeKIQvz7xdxw"
      }
    },
    {
      "cell_type": "markdown",
      "source": [
        "# **1.**"
      ],
      "metadata": {
        "id": "2tYGjZHrxjn4"
      }
    },
    {
      "cell_type": "code",
      "source": [
        "def recur_fibo(n):\n",
        "   if n <= 1:\n",
        "       return n\n",
        "   else:\n",
        "       return(recur_fibo(n-1) + recur_fibo(n-2))\n",
        "\n",
        "nterms = 10\n",
        "\n",
        "# check if the number of terms is valid\n",
        "if nterms <= 0:\n",
        "   print(\"Plese enter a positive integer\")\n",
        "else:\n",
        "   print(\"Fibonacci sequence:\")\n",
        "   for i in range(nterms):\n",
        "       print(recur_fibo(i))"
      ],
      "metadata": {
        "colab": {
          "base_uri": "https://localhost:8080/"
        },
        "id": "h2Rq3j0vxnDS",
        "outputId": "c292c2f9-6a8a-4bb5-dfdc-16e968b727b3"
      },
      "execution_count": 21,
      "outputs": [
        {
          "output_type": "stream",
          "name": "stdout",
          "text": [
            "Fibonacci sequence:\n",
            "0\n",
            "1\n",
            "1\n",
            "2\n",
            "3\n",
            "5\n",
            "8\n",
            "13\n",
            "21\n",
            "34\n"
          ]
        }
      ]
    },
    {
      "cell_type": "markdown",
      "source": [
        "# **2.**"
      ],
      "metadata": {
        "id": "9qwZu45Axovw"
      }
    },
    {
      "cell_type": "code",
      "source": [
        "def f(n):\n",
        "  a = 0\n",
        "  b = 1\n",
        "  if n == 0:\n",
        "    return a\n",
        "  if n == 1:\n",
        "    return b\n",
        "  else:\n",
        "    for i in range(2,n):\n",
        "        c = a + b\n",
        "        a = b\n",
        "        b = c\n",
        "    return b\n",
        "f(8)"
      ],
      "metadata": {
        "colab": {
          "base_uri": "https://localhost:8080/"
        },
        "id": "KVvWhn5QxpuI",
        "outputId": "736ee541-25ee-4c1b-b61a-359c3e42ac15"
      },
      "execution_count": 22,
      "outputs": [
        {
          "output_type": "execute_result",
          "data": {
            "text/plain": [
              "13"
            ]
          },
          "metadata": {},
          "execution_count": 22
        }
      ]
    }
  ]
}