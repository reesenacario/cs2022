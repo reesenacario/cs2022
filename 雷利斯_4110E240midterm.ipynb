{
  "nbformat": 4,
  "nbformat_minor": 0,
  "metadata": {
    "colab": {
      "provenance": [],
      "authorship_tag": "ABX9TyMZugENdeKYIqAJsN4kyiUQ",
      "include_colab_link": true
    },
    "kernelspec": {
      "name": "python3",
      "display_name": "Python 3"
    },
    "language_info": {
      "name": "python"
    }
  },
  "cells": [
    {
      "cell_type": "markdown",
      "metadata": {
        "id": "view-in-github",
        "colab_type": "text"
      },
      "source": [
        "<a href=\"https://colab.research.google.com/github/reesenacario/cs2022/blob/main/%E9%9B%B7%E5%88%A9%E6%96%AF_4110E240midterm.ipynb\" target=\"_parent\"><img src=\"https://colab.research.google.com/assets/colab-badge.svg\" alt=\"Open In Colab\"/></a>"
      ]
    },
    {
      "cell_type": "markdown",
      "source": [
        "# **1**"
      ],
      "metadata": {
        "id": "e-3dqX8HVHHV"
      }
    },
    {
      "cell_type": "markdown",
      "source": [
        "What can Python do?\n",
        "\n",
        "(A)Python can be used on a server to create web applications.\n",
        "\n",
        "(B)Python can be used alongside software to create workflows.\n",
        "\n",
        "(C)Python can connect to database systems. It can also read and modify files.\n",
        "\n",
        "(D)Python can be used to handle big data and perform complex mathematics.\n",
        "\n"
      ],
      "metadata": {
        "id": "rOuiOSEIVJn7"
      }
    },
    {
      "cell_type": "markdown",
      "source": [],
      "metadata": {
        "id": "Q1bZmQGeVNOc"
      }
    },
    {
      "cell_type": "markdown",
      "source": [
        "-answer: https://www.w3schools.com/python/python_intro.asp"
      ],
      "metadata": {
        "id": "8OACPd1HV5Sw"
      }
    },
    {
      "cell_type": "markdown",
      "source": [
        "What can Python do?\n",
        "\n",
        "Python can be used on a server to create web applications.\n",
        "\n",
        "Python can be used alongside software to create workflows.\n",
        "\n",
        "Python can connect to database systems. It can also read and modify files.\n",
        "\n",
        "Python can be used to handle big data and perform complex mathematics.\n",
        "\n",
        "Python can be used for rapid prototyping, or for production-ready software development.\n",
        "Why Python?"
      ],
      "metadata": {
        "id": "aY6TIiIiV6Z1"
      }
    },
    {
      "cell_type": "markdown",
      "source": [
        "# **2**"
      ],
      "metadata": {
        "id": "pXM4xy7zWC-L"
      }
    },
    {
      "cell_type": "markdown",
      "source": [
        "Python uses __________ to indicate a block of code\n",
        "\n",
        "(A)  []  (B) {}   (C) ()   (D) indentation"
      ],
      "metadata": {
        "id": "K8aQnnD3WMJM"
      }
    },
    {
      "cell_type": "markdown",
      "source": [
        "answer https://www.w3schools.com/python/python_syntax.asp"
      ],
      "metadata": {
        "id": "t0xFXUi7WQAN"
      }
    },
    {
      "cell_type": "markdown",
      "source": [
        "Python uses indentation to indicate a block of code.\n"
      ],
      "metadata": {
        "id": "sd4sNEDMWcFr"
      }
    },
    {
      "cell_type": "markdown",
      "source": [
        "# **3**"
      ],
      "metadata": {
        "id": "T-abXWgLWdK8"
      }
    },
    {
      "cell_type": "markdown",
      "source": [
        "Python has commenting capability for the purpose of in-code documentation. Comments start with a  __________\n",
        "\n",
        "(A) A    (B) #    (C)  /     (D)&\n"
      ],
      "metadata": {
        "id": "9CNGTPCyWeQb"
      }
    },
    {
      "cell_type": "markdown",
      "source": [
        "**(B) #**"
      ],
      "metadata": {
        "id": "FA_Ky9QyW-6t"
      }
    },
    {
      "cell_type": "markdown",
      "source": [
        "# **4**"
      ],
      "metadata": {
        "id": "0Fy6qkIGYJHG"
      }
    },
    {
      "cell_type": "code",
      "source": [
        "fruits = [\"apple\", \"banana\", \"cherry\"]\n",
        "x, y, z = fruits\n",
        "print(x)"
      ],
      "metadata": {
        "colab": {
          "base_uri": "https://localhost:8080/"
        },
        "id": "cqiknvDyYOyG",
        "outputId": "cbf7b4ef-fa98-4b3e-a609-7dfab176af05"
      },
      "execution_count": 1,
      "outputs": [
        {
          "output_type": "stream",
          "name": "stdout",
          "text": [
            "apple\n"
          ]
        }
      ]
    },
    {
      "cell_type": "markdown",
      "source": [
        "# **5**"
      ],
      "metadata": {
        "id": "SgTWuuRrYMlM"
      }
    },
    {
      "cell_type": "code",
      "source": [
        "students = { 'name' => 'alice' ;  'score' =>60 }\n"
      ],
      "metadata": {
        "colab": {
          "base_uri": "https://localhost:8080/",
          "height": 130
        },
        "id": "6yQnFlWUYffM",
        "outputId": "02c6adb6-6f2c-4432-dc0e-26187f439bd8"
      },
      "execution_count": 2,
      "outputs": [
        {
          "output_type": "error",
          "ename": "SyntaxError",
          "evalue": "ignored",
          "traceback": [
            "\u001b[0;36m  File \u001b[0;32m\"<ipython-input-2-ed12b19b76b9>\"\u001b[0;36m, line \u001b[0;32m1\u001b[0m\n\u001b[0;31m    students = { 'name' => 'alice' ;  'score' =>60 }\u001b[0m\n\u001b[0m                        ^\u001b[0m\n\u001b[0;31mSyntaxError\u001b[0m\u001b[0;31m:\u001b[0m invalid syntax\n"
          ]
        }
      ]
    },
    {
      "cell_type": "code",
      "source": [
        "students = { 'name' = 'alice' ;  'score' =60 }\n"
      ],
      "metadata": {
        "colab": {
          "base_uri": "https://localhost:8080/",
          "height": 130
        },
        "id": "jks2gXmpYlE8",
        "outputId": "d18259a0-cea4-4efd-baad-6f729d0df83f"
      },
      "execution_count": 3,
      "outputs": [
        {
          "output_type": "error",
          "ename": "SyntaxError",
          "evalue": "ignored",
          "traceback": [
            "\u001b[0;36m  File \u001b[0;32m\"<ipython-input-3-2b6d7142b302>\"\u001b[0;36m, line \u001b[0;32m1\u001b[0m\n\u001b[0;31m    students = { 'name' = 'alice' ;  'score' =60 }\u001b[0m\n\u001b[0m                        ^\u001b[0m\n\u001b[0;31mSyntaxError\u001b[0m\u001b[0;31m:\u001b[0m invalid syntax\n"
          ]
        }
      ]
    },
    {
      "cell_type": "code",
      "source": [
        "students = { 'name' : 'alice' ;  'score' : 60 }\n"
      ],
      "metadata": {
        "colab": {
          "base_uri": "https://localhost:8080/",
          "height": 130
        },
        "id": "0Ht5O1RiYoRy",
        "outputId": "bded8021-cdc9-4b29-d2c7-3d8ef2184ed0"
      },
      "execution_count": 4,
      "outputs": [
        {
          "output_type": "error",
          "ename": "SyntaxError",
          "evalue": "ignored",
          "traceback": [
            "\u001b[0;36m  File \u001b[0;32m\"<ipython-input-4-a6c06425b6ca>\"\u001b[0;36m, line \u001b[0;32m1\u001b[0m\n\u001b[0;31m    students = { 'name' : 'alice' ;  'score' : 60 }\u001b[0m\n\u001b[0m                                  ^\u001b[0m\n\u001b[0;31mSyntaxError\u001b[0m\u001b[0;31m:\u001b[0m invalid syntax\n"
          ]
        }
      ]
    },
    {
      "cell_type": "code",
      "source": [
        "students = { 'name' => 'alice' ,  'score' =>60 }\n"
      ],
      "metadata": {
        "colab": {
          "base_uri": "https://localhost:8080/",
          "height": 130
        },
        "id": "97t-9z7PYp_0",
        "outputId": "cc4e89a1-9c90-46c8-c7ed-7bfa6619d10d"
      },
      "execution_count": 5,
      "outputs": [
        {
          "output_type": "error",
          "ename": "SyntaxError",
          "evalue": "ignored",
          "traceback": [
            "\u001b[0;36m  File \u001b[0;32m\"<ipython-input-5-57cc8b55d372>\"\u001b[0;36m, line \u001b[0;32m1\u001b[0m\n\u001b[0;31m    students = { 'name' => 'alice' ,  'score' =>60 }\u001b[0m\n\u001b[0m                        ^\u001b[0m\n\u001b[0;31mSyntaxError\u001b[0m\u001b[0;31m:\u001b[0m invalid syntax\n"
          ]
        }
      ]
    },
    {
      "cell_type": "code",
      "source": [
        "students = { 'name' : 'alice' , 'score' : 60 }\n"
      ],
      "metadata": {
        "id": "iCWudc0JYvuN"
      },
      "execution_count": 6,
      "outputs": []
    },
    {
      "cell_type": "markdown",
      "source": [
        "# **6**"
      ],
      "metadata": {
        "id": "MqESI0UjYtQU"
      }
    },
    {
      "cell_type": "code",
      "source": [
        "x = 5\n",
        "y = \"John\"\n",
        "   \n",
        "print(x + y)\n"
      ],
      "metadata": {
        "colab": {
          "base_uri": "https://localhost:8080/",
          "height": 200
        },
        "id": "mZCZNLY2Y8Ud",
        "outputId": "93a7d864-e2aa-4681-fe0c-b472afce5721"
      },
      "execution_count": 13,
      "outputs": [
        {
          "output_type": "error",
          "ename": "TypeError",
          "evalue": "ignored",
          "traceback": [
            "\u001b[0;31m---------------------------------------------------------------------------\u001b[0m",
            "\u001b[0;31mTypeError\u001b[0m                                 Traceback (most recent call last)",
            "\u001b[0;32m<ipython-input-13-39d3b030ee78>\u001b[0m in \u001b[0;36m<module>\u001b[0;34m\u001b[0m\n\u001b[1;32m      2\u001b[0m \u001b[0my\u001b[0m \u001b[0;34m=\u001b[0m \u001b[0;34m\"John\"\u001b[0m\u001b[0;34m\u001b[0m\u001b[0;34m\u001b[0m\u001b[0m\n\u001b[1;32m      3\u001b[0m \u001b[0;34m\u001b[0m\u001b[0m\n\u001b[0;32m----> 4\u001b[0;31m \u001b[0mprint\u001b[0m\u001b[0;34m(\u001b[0m \u001b[0mx\u001b[0m \u001b[0;34m+\u001b[0m \u001b[0my\u001b[0m \u001b[0;34m)\u001b[0m\u001b[0;34m\u001b[0m\u001b[0;34m\u001b[0m\u001b[0m\n\u001b[0m",
            "\u001b[0;31mTypeError\u001b[0m: unsupported operand type(s) for +: 'int' and 'str'"
          ]
        }
      ]
    },
    {
      "cell_type": "markdown",
      "source": [
        "D) **Python will give you an error**"
      ],
      "metadata": {
        "id": "I2VBD1aocL9z"
      }
    },
    {
      "cell_type": "markdown",
      "source": [
        "# **7**\n"
      ],
      "metadata": {
        "id": "pZm0t2JoY5xt"
      }
    },
    {
      "cell_type": "markdown",
      "source": [
        "(A)13//5  output: 2.6\n",
        "\n",
        "(B) 13/5   output: 2.6\n",
        "\n",
        "(C)13%5   output:3   \n",
        "\n",
        "(D)y = int(2.8)  output:2\n"
      ],
      "metadata": {
        "id": "FRw_bfkhd6RD"
      }
    },
    {
      "cell_type": "markdown",
      "source": [
        "(B) **13/5   output: 2.6**"
      ],
      "metadata": {
        "id": "5U_vAg_TeEgS"
      }
    },
    {
      "cell_type": "markdown",
      "source": [
        "# **8**"
      ],
      "metadata": {
        "id": "femzLDneeKer"
      }
    },
    {
      "cell_type": "code",
      "source": [
        "   s=0\n",
        "   \n",
        "   for i in range (3 , 11) :\n",
        "       \n",
        "        s+=i\n",
        "   print (s)\n"
      ],
      "metadata": {
        "id": "RJZyTJNLdIfr"
      },
      "execution_count": null,
      "outputs": []
    },
    {
      "cell_type": "code",
      "source": [
        "x = range(3,11)\n",
        "\n",
        "for n in x:\n",
        "  print(n)"
      ],
      "metadata": {
        "colab": {
          "base_uri": "https://localhost:8080/"
        },
        "id": "A0Wsuoz5ewGy",
        "outputId": "61bef271-72bb-4ed6-c59a-a0e875a1b1d3"
      },
      "execution_count": 21,
      "outputs": [
        {
          "output_type": "stream",
          "name": "stdout",
          "text": [
            "3\n",
            "4\n",
            "5\n",
            "6\n",
            "7\n",
            "8\n",
            "9\n",
            "10\n"
          ]
        }
      ]
    },
    {
      "cell_type": "markdown",
      "source": [
        "(D) **Calculate the sum of 3+4+5+6+…+10**"
      ],
      "metadata": {
        "id": "KxKYfsXMhSKq"
      }
    },
    {
      "cell_type": "markdown",
      "source": [
        "# **9**"
      ],
      "metadata": {
        "id": "qWf9eB7fhT35"
      }
    },
    {
      "cell_type": "code",
      "source": [
        "a = \"Hello, World!\"\n",
        "print(a[2:5]+ a[3:8]) \n"
      ],
      "metadata": {
        "colab": {
          "base_uri": "https://localhost:8080/"
        },
        "id": "mBrr6icIhOdz",
        "outputId": "90993cf9-61d4-44ae-d666-029370b6e24c"
      },
      "execution_count": 22,
      "outputs": [
        {
          "output_type": "stream",
          "name": "stdout",
          "text": [
            "llolo, W\n"
          ]
        }
      ]
    },
    {
      "cell_type": "markdown",
      "source": [
        "(C)  **llolo, W**"
      ],
      "metadata": {
        "id": "4RRaxvr_hbhj"
      }
    },
    {
      "cell_type": "markdown",
      "source": [
        "# **10**"
      ],
      "metadata": {
        "id": "6M4TKjH_hff7"
      }
    },
    {
      "cell_type": "markdown",
      "source": [
        "Which function can returns the length of a string?\n",
        "a = \"Hello, Pythonian!\"\n",
        "print(_________)\n",
        "\n",
        "(A) len(a)  (B) length(a)   (C) count(a)  (D)  num(a)\n"
      ],
      "metadata": {
        "id": "Y7bko5zyhgvI"
      }
    },
    {
      "cell_type": "markdown",
      "source": [
        "https://www.w3schools.com/python/python_strings.asp"
      ],
      "metadata": {
        "id": "IV1bc794iJm4"
      }
    },
    {
      "cell_type": "markdown",
      "source": [
        "(B) length(a)"
      ],
      "metadata": {
        "id": "bObTjgbqiRVB"
      }
    },
    {
      "cell_type": "markdown",
      "source": [
        "# **11**"
      ],
      "metadata": {
        "id": "-xPx-u_LiX7j"
      }
    },
    {
      "cell_type": "markdown",
      "source": [
        "What is the output of this code in Python?\n",
        "      \n",
        "      list = [ ' a ' ,  ' b ' ,  ' c ' ,  ' d ' ,  ' e ' ]\n",
        "      \n",
        "      print (list [ 1 : ])\n",
        "   \n",
        "   (A) [ ]\n",
        "   (B) [ 'b' ]\n",
        "   (C) [ 'a' ,  'b' ]\n",
        "   (D) [ 'b' ,  'c' ,  'd' ,  'e' ]\n"
      ],
      "metadata": {
        "id": "bevCXU2Iibgx"
      }
    },
    {
      "cell_type": "code",
      "source": [
        "list = [ ' a ' ,  ' b ' ,  ' c ' ,  ' d ' ,  ' e ' ]\n",
        "print (list [ 1 : ])\n"
      ],
      "metadata": {
        "colab": {
          "base_uri": "https://localhost:8080/"
        },
        "id": "xRozUodAizlR",
        "outputId": "d01aa865-9f91-40bc-eeb7-7e1ee85fc584"
      },
      "execution_count": 25,
      "outputs": [
        {
          "output_type": "stream",
          "name": "stdout",
          "text": [
            "[' b ', ' c ', ' d ', ' e ']\n"
          ]
        }
      ]
    },
    {
      "cell_type": "markdown",
      "source": [
        "(D) **[ 'b' , 'c' , 'd' , 'e' ]**\n"
      ],
      "metadata": {
        "id": "ELpcnz-rikMJ"
      }
    },
    {
      "cell_type": "markdown",
      "source": [
        "# **12**"
      ],
      "metadata": {
        "id": "JYVIwS80i-3A"
      }
    },
    {
      "cell_type": "markdown",
      "source": [
        "What is the output of this code in Python?\n",
        "        \n",
        "        L1 = [ ]\n",
        "        \n",
        "        L1.append ( [1, [2, 3], 4] )\n",
        "        \n",
        "        L1.extend ( [7, 8, 9] )\n",
        "        \n",
        "        print(L1[0][1][1] + L1[2] )\n",
        "   \n",
        "   (A) 3  (B) 8  (C) 11  (D) 38  (E) None of these\n"
      ],
      "metadata": {
        "id": "t-SpGKUrjAEI"
      }
    },
    {
      "cell_type": "code",
      "source": [
        "L1 = []\n",
        "L1.append ( [1, [2, 3], 4] )\n",
        "L1.extend ( [7, 8, 9] )\n",
        "\n",
        "print(L1[0][1][1] + L1[2])\n",
        "\n"
      ],
      "metadata": {
        "colab": {
          "base_uri": "https://localhost:8080/"
        },
        "id": "-FWnldjbjHpw",
        "outputId": "3d9e5f88-08be-475f-b2ef-4b6d9d2e2867"
      },
      "execution_count": 31,
      "outputs": [
        {
          "output_type": "stream",
          "name": "stdout",
          "text": [
            "11\n"
          ]
        }
      ]
    },
    {
      "cell_type": "markdown",
      "source": [
        "(C) **11**"
      ],
      "metadata": {
        "id": "LalRBvBijfhy"
      }
    },
    {
      "cell_type": "markdown",
      "source": [
        "# **13**"
      ],
      "metadata": {
        "id": "DK1Csizqj3VS"
      }
    },
    {
      "cell_type": "markdown",
      "source": [
        "Check if \"free\" is present in the following text:\n",
        "\n",
        "txt = \"The best things in life are free!\"\n",
        "print(\"free\" ______ txt)\n",
        "\n",
        "Which is the correct answer?\n",
        "\n",
        "(A) on (B) with (C) at  (D) in\n"
      ],
      "metadata": {
        "id": "fZezfv2Mj93Y"
      }
    },
    {
      "cell_type": "code",
      "source": [
        "txt = \"The best things in life are free!\"\n",
        "print(\"free\" in txt)\n"
      ],
      "metadata": {
        "colab": {
          "base_uri": "https://localhost:8080/"
        },
        "id": "_4IgZimRjPIX",
        "outputId": "6f71beff-d553-44af-91f5-60d3af473e02"
      },
      "execution_count": 36,
      "outputs": [
        {
          "output_type": "stream",
          "name": "stdout",
          "text": [
            "True\n"
          ]
        }
      ]
    },
    {
      "cell_type": "markdown",
      "source": [
        "(D) **in**"
      ],
      "metadata": {
        "id": "tiWMm9KSkfjD"
      }
    },
    {
      "cell_type": "markdown",
      "source": [
        "# **14**"
      ],
      "metadata": {
        "id": "gA1kDV06kgdx"
      }
    },
    {
      "cell_type": "markdown",
      "source": [
        "Which of the following conditions correctly describes the output of this code in  Python?\n",
        "         \n",
        "         first = [1 , 2 , 3 , 4 , 5]\n",
        "         \n",
        "         second = first\n",
        "         \n",
        "         second.append (6)\n",
        "         \n",
        "         print (first)\n",
        "         \n",
        "         print (second)\n",
        "   \n",
        "   (A) first=[1, 2, 3, 4, 5], second=[1, 2, 3, 4, 5, 6]\n",
        "   \n",
        "   (B) first=[1, 2, 3, 4, 5, 6], second=[1, 2, 3, 4, 5]\n",
        "   \n",
        "   (C) first=[1, 2, 3, 4, 5], second=[1, 2, 3, 4, 5]\n",
        "   \n",
        "   (D) first=[1, 2, 3, 4, 5, 6], second=[1, 2, 3, 4, 5, 6]\n",
        "   \n",
        "   (E) None of these\n"
      ],
      "metadata": {
        "id": "B5UaHN1wkh6x"
      }
    },
    {
      "cell_type": "code",
      "source": [
        "first = [1 , 2 , 3 , 4 , 5]\n",
        "second = first\n",
        "second.append (6)\n",
        "print (first)\n",
        "print (second)\n"
      ],
      "metadata": {
        "colab": {
          "base_uri": "https://localhost:8080/"
        },
        "id": "G8BX14BEkxVj",
        "outputId": "77d78867-1c69-4ce0-aebf-8e6c1f4c7e27"
      },
      "execution_count": 38,
      "outputs": [
        {
          "output_type": "stream",
          "name": "stdout",
          "text": [
            "[1, 2, 3, 4, 5, 6]\n",
            "[1, 2, 3, 4, 5, 6]\n"
          ]
        }
      ]
    },
    {
      "cell_type": "markdown",
      "source": [
        "# (D) first=[1, 2, 3, 4, 5, 6], second=[1, 2, 3, 4, 5, 6]\n",
        "\n"
      ],
      "metadata": {
        "id": "Rf4lAl_1kt_f"
      }
    },
    {
      "cell_type": "markdown",
      "source": [
        "# **15**"
      ],
      "metadata": {
        "id": "gnNCx3oSlDX7"
      }
    },
    {
      "cell_type": "markdown",
      "source": [
        "Python has a set of built-in methods that you can use on strings. Which method can converts string into lower case ?\n",
        "\n",
        "(A)capitalize()     (B) casefold()     (C) lower()  \n",
        "(D)expandtabs()\n"
      ],
      "metadata": {
        "id": "kHiBpwYMlNpg"
      }
    },
    {
      "cell_type": "markdown",
      "source": [
        "https://www.google.com/search?q=Python+has+a+set+of+built-in+methods+that+you+can+use+on+strings.+Which+method+can+converts+string+into+lower+case+%3F&rlz=1C1ONGR_enPH1023PH1023&oq=Python+has+a+set+of+built-in+methods+that+you+can+use+on+strings.+Which+method+can+converts+string+into+lower+case+%3F&aqs=chrome..69i57.263j0j9&sourceid=chrome&ie=UTF-8"
      ],
      "metadata": {
        "id": "TZaP2uoulbbj"
      }
    },
    {
      "cell_type": "markdown",
      "source": [
        "(C)** lower()**"
      ],
      "metadata": {
        "id": "Cf2M3MBTlbXo"
      }
    },
    {
      "cell_type": "markdown",
      "source": [
        "# **16**"
      ],
      "metadata": {
        "id": "p30q7cfrlwER"
      }
    },
    {
      "cell_type": "markdown",
      "source": [
        "Python Booleans\n",
        "Which one of the following statements is wrong?\n",
        "\n",
        "(A) Booleans represent one of two values: True or False. \n",
        "\n",
        "(B) The bool() function allows you to evaluate any value, and give you True or False in return, \n",
        "\n",
        "(C) print(10 > 9) will output True  \n",
        "\n",
        "(D) print(10 = 9) will output True\n"
      ],
      "metadata": {
        "id": "PDCVqgZWlzeR"
      }
    },
    {
      "cell_type": "code",
      "source": [
        "print(10 = 9)"
      ],
      "metadata": {
        "colab": {
          "base_uri": "https://localhost:8080/",
          "height": 130
        },
        "id": "TP4IgdYFlKmx",
        "outputId": "bc77f718-b4cd-40d3-929e-5c783a7fd285"
      },
      "execution_count": 39,
      "outputs": [
        {
          "output_type": "error",
          "ename": "SyntaxError",
          "evalue": "ignored",
          "traceback": [
            "\u001b[0;36m  File \u001b[0;32m\"<ipython-input-39-bfffe3a677b9>\"\u001b[0;36m, line \u001b[0;32m1\u001b[0m\n\u001b[0;31m    print(10 = 9)\u001b[0m\n\u001b[0m         ^\u001b[0m\n\u001b[0;31mSyntaxError\u001b[0m\u001b[0;31m:\u001b[0m keyword can't be an expression\n"
          ]
        }
      ]
    },
    {
      "cell_type": "markdown",
      "source": [
        "(D) print(10 = 9) will output True"
      ],
      "metadata": {
        "id": "qu54Zb3OmWKZ"
      }
    },
    {
      "cell_type": "markdown",
      "source": [
        "# **17**"
      ],
      "metadata": {
        "id": "qpQ1zgPymeWp"
      }
    },
    {
      "cell_type": "markdown",
      "source": [
        "Python Lists \n",
        "Which of the following statements is wrong?\n",
        "\n",
        "\n",
        "(A) Lists are used to store multiple items in a single variable.\n",
        "\n",
        "(B) Lists are created using square brackets \n",
        "\n",
        "(C) List items are ordered, changeable, and allow duplicate values. \n",
        "\n",
        "(D) Lists can not have items with the same value\n"
      ],
      "metadata": {
        "id": "Nny3scoUmf5g"
      }
    },
    {
      "cell_type": "markdown",
      "source": [
        "(D) **Lists can not have items with the same value**"
      ],
      "metadata": {
        "id": "K2QpqHRUmlaQ"
      }
    },
    {
      "cell_type": "markdown",
      "source": [
        "# **18**"
      ],
      "metadata": {
        "id": "9388pQZ5m2ZQ"
      }
    },
    {
      "cell_type": "markdown",
      "source": [
        "Which one of the codes will output\n",
        "['apple', 'orange', 'banana', 'cherry']  ?\n",
        "\n",
        "mylist = [\"apple\", \"banana\", \"cherry\"]\n",
        "_____________________\n",
        "print(mylist)\n",
        "\n",
        "\n",
        "(A)mylist.append(\"orange\")\n",
        "\n",
        "(B)mylist.insert(0, \"orange\")\n",
        "\n",
        "(C)mylist.insert(1, \"orange\")   \n",
        "\n",
        "(D)mylist.insert(2, \"orange\")\n"
      ],
      "metadata": {
        "id": "4nbDH0Oom3yg"
      }
    },
    {
      "cell_type": "code",
      "source": [
        "['apple', 'orange', 'banana', 'cherry']\n",
        "mylist = [\"apple\", \"banana\", \"cherry\"]\n",
        "\n",
        "mylist.insert(1, \"orange\")   \n",
        "print(mylist)"
      ],
      "metadata": {
        "colab": {
          "base_uri": "https://localhost:8080/"
        },
        "id": "tBnlpIEGm8ua",
        "outputId": "01cbe643-607c-46cd-df06-1db497394b17"
      },
      "execution_count": 48,
      "outputs": [
        {
          "output_type": "stream",
          "name": "stdout",
          "text": [
            "['apple', 'orange', 'banana', 'cherry']\n"
          ]
        }
      ]
    },
    {
      "cell_type": "markdown",
      "source": [
        "(C)**mylist.insert(1, \"orange\")**"
      ],
      "metadata": {
        "id": "DpbjFecUnoBw"
      }
    },
    {
      "cell_type": "markdown",
      "source": [
        "# **19**"
      ],
      "metadata": {
        "id": "qViymg1Rntqg"
      }
    },
    {
      "cell_type": "markdown",
      "source": [
        "Python has a set of built-in methods that you can use on dictionaries. Which statements are correct ?\n",
        "\n",
        "(A) clear() will removes all the elements from the dictionary\n",
        "\n",
        "(B) copy() will returns a copy of the dictionary \n",
        "\n",
        "(C) items() will returns a list containing a tuple for each key value pair  \n",
        "\n",
        "(D) popitem()\twill removes the last inserted key-value pair\n"
      ],
      "metadata": {
        "id": "M7c8mQSlnyKg"
      }
    },
    {
      "cell_type": "markdown",
      "source": [
        "(C) **items() will returns a list containing a tuple for each key value pair**"
      ],
      "metadata": {
        "id": "Aw8I9DCmn-gJ"
      }
    },
    {
      "cell_type": "markdown",
      "source": [
        "# **20**"
      ],
      "metadata": {
        "id": "8gRp8GBKoCkX"
      }
    },
    {
      "cell_type": "markdown",
      "source": [
        "Python supports the usual logical conditions from mathematics:\n",
        "Which statements are correct ?\n",
        "\n",
        "(A)Equals: a = b\n",
        "\n",
        "(B)Not Equals: a != b\n",
        "\n",
        "(C)Less than or equal to: a <= b\n",
        "\n",
        "(D)Greater than: a > b\n"
      ],
      "metadata": {
        "id": "NGha_FYuoE45"
      }
    },
    {
      "cell_type": "markdown",
      "source": [
        "(A)**Equals: a = b**"
      ],
      "metadata": {
        "id": "Gf-M_rckoNEY"
      }
    },
    {
      "cell_type": "markdown",
      "source": [
        "# **21**"
      ],
      "metadata": {
        "id": "YeB90ZGPojfR"
      }
    },
    {
      "cell_type": "markdown",
      "source": [
        "What is the output of this code in Python?\n"
      ],
      "metadata": {
        "id": "zrCF-ckSpE7c"
      }
    },
    {
      "cell_type": "code",
      "source": [
        "i = 1\n",
        "while i < 6:\n",
        "  print(i)\n",
        "  if (i == 3):\n",
        "    break\n",
        "  i += 1\n"
      ],
      "metadata": {
        "colab": {
          "base_uri": "https://localhost:8080/"
        },
        "id": "JSrMw9aAni5R",
        "outputId": "f41f3668-ec8e-4cb7-cddb-c3322632ef52"
      },
      "execution_count": 49,
      "outputs": [
        {
          "output_type": "stream",
          "name": "stdout",
          "text": [
            "1\n",
            "2\n",
            "3\n"
          ]
        }
      ]
    },
    {
      "cell_type": "markdown",
      "source": [
        "(A)\n",
        "   \n",
        "   1\n",
        "   \n",
        "   2\n",
        "  \n",
        "   3 \n"
      ],
      "metadata": {
        "id": "9aq9aPbEouUR"
      }
    },
    {
      "cell_type": "markdown",
      "source": [
        "# **22**"
      ],
      "metadata": {
        "id": "XfJEfSn0pE01"
      }
    },
    {
      "cell_type": "markdown",
      "source": [
        "What is the output of this code in Python?"
      ],
      "metadata": {
        "id": "iKy_XPsEpN6Q"
      }
    },
    {
      "cell_type": "code",
      "source": [
        "i = 0\n",
        "while i < 6:\n",
        "  i += 1\n",
        "  if i == 3:\n",
        "    continue\n",
        "  print(i)\n"
      ],
      "metadata": {
        "colab": {
          "base_uri": "https://localhost:8080/"
        },
        "id": "T-TvTqXQpTCU",
        "outputId": "3d586544-909d-41fb-86ef-c27bec938cdc"
      },
      "execution_count": 50,
      "outputs": [
        {
          "output_type": "stream",
          "name": "stdout",
          "text": [
            "1\n",
            "2\n",
            "4\n",
            "5\n",
            "6\n"
          ]
        }
      ]
    },
    {
      "cell_type": "markdown",
      "source": [
        "B\n",
        "\n",
        "1\n",
        "\n",
        "2\n",
        "\n",
        "4\n",
        "\n",
        "5\n",
        "\n",
        "6\n"
      ],
      "metadata": {
        "id": "v6kFuUpspXKn"
      }
    },
    {
      "cell_type": "markdown",
      "source": [
        "# **23**"
      ],
      "metadata": {
        "id": "ZJ9jbuUEqK6m"
      }
    },
    {
      "cell_type": "markdown",
      "source": [
        "If the function \n",
        "int volume (int x = 1, int y = 1, int z = 1); \n",
        "is called by the expression volume (7,8), how many default arguments are used?\n",
        "\n",
        "(A) None  (B) One  (C) Two  (D) Three\n",
        "(E) It depends on the runtime environment.\n"
      ],
      "metadata": {
        "id": "KPY9pDjOpjwv"
      }
    },
    {
      "cell_type": "markdown",
      "source": [
        " (C) **Two**"
      ],
      "metadata": {
        "id": "3jkB-JKgpnuw"
      }
    },
    {
      "cell_type": "markdown",
      "source": [
        "# **24**"
      ],
      "metadata": {
        "id": "RNPwXVMsqMU_"
      }
    },
    {
      "cell_type": "markdown",
      "source": [
        "What is the output of this code in python?\n",
        "       \n",
        "        r = lambda q: q * 2\n",
        "       \n",
        "        s = lambda q: q * 3\n",
        "       \n",
        "        x = 2\n",
        "       \n",
        "        x = r (x)\n",
        "       \n",
        "        x = s (x)\n",
        "       \n",
        "        x = r (x)\n",
        "       \n",
        "        print (x\n",
        "\n",
        "        A) 2  (B) 4  (C) 6  (D) 12  (E) 24\n"
      ],
      "metadata": {
        "id": "2sgtJLSaqTv3"
      }
    },
    {
      "cell_type": "markdown",
      "source": [
        "      "
      ],
      "metadata": {
        "id": "7CM_6BMuqZEY"
      }
    },
    {
      "cell_type": "code",
      "source": [
        "r = lambda q: q * 2\n",
        "s = lambda q: q * 3\n",
        "x = 2\n",
        "x = r (x)\n",
        "x = s (x)\n",
        "x = r (x)\n",
        "print (x)\n",
        "\n"
      ],
      "metadata": {
        "colab": {
          "base_uri": "https://localhost:8080/"
        },
        "id": "wX3ZBhTyqb32",
        "outputId": "557d6996-60af-48e8-9147-5384cb254161"
      },
      "execution_count": 54,
      "outputs": [
        {
          "output_type": "stream",
          "name": "stdout",
          "text": [
            "24\n"
          ]
        }
      ]
    },
    {
      "cell_type": "markdown",
      "source": [
        "(E) **24**"
      ],
      "metadata": {
        "id": "sIZPXVWaq2pY"
      }
    },
    {
      "cell_type": "markdown",
      "source": [
        "# **25**"
      ],
      "metadata": {
        "id": "a7y3gGTKq_bY"
      }
    },
    {
      "cell_type": "markdown",
      "source": [
        "A recursive function is defined as below:\n",
        "def tri_recursion(k):\n",
        "  \n",
        "  if(k > 0):\n",
        "    \n",
        "  result = k + tri_recursion(k - 1)\n",
        "    \n",
        "  print(result)\n",
        " \n",
        "  else:\n",
        "  \n",
        "  result = 0\n",
        "  \n",
        "  return result\n",
        "\n",
        "What Is The Last Line Of The Output When tri_recursion(6) is executed? \n",
        "   \n",
        "   (A) 6  (B) 10  (C) 15  (D) 21  (E) 28\n",
        "\n"
      ],
      "metadata": {
        "id": "6iapeuYurA3w"
      }
    },
    {
      "cell_type": "code",
      "source": [
        "def tri_recursion(k):\n",
        "  if(k > 0):\n",
        "    result = k + tri_recursion(k - 1)\n",
        "    print(result)\n",
        "  else:\n",
        "    result = 0\n",
        "  return result\n"
      ],
      "metadata": {
        "id": "RZOlXs2erSDL"
      },
      "execution_count": 55,
      "outputs": []
    },
    {
      "cell_type": "markdown",
      "source": [
        "(D) **21**"
      ],
      "metadata": {
        "id": "ly8x_Z3UsTpH"
      }
    }
  ]
}