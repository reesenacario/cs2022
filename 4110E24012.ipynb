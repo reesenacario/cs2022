{
  "nbformat": 4,
  "nbformat_minor": 0,
  "metadata": {
    "colab": {
      "provenance": [],
      "collapsed_sections": [],
      "authorship_tag": "ABX9TyOEH1cb2Og4vyhfrSX7arKu",
      "include_colab_link": true
    },
    "kernelspec": {
      "name": "python3",
      "display_name": "Python 3"
    },
    "language_info": {
      "name": "python"
    }
  },
  "cells": [
    {
      "cell_type": "markdown",
      "metadata": {
        "id": "view-in-github",
        "colab_type": "text"
      },
      "source": [
        "<a href=\"https://colab.research.google.com/github/reesenacario/cs2022/blob/main/4110E24012.ipynb\" target=\"_parent\"><img src=\"https://colab.research.google.com/assets/colab-badge.svg\" alt=\"Open In Colab\"/></a>"
      ]
    },
    {
      "cell_type": "markdown",
      "source": [
        "# **1019 4110E240**"
      ],
      "metadata": {
        "id": "CDcZM9aE4pSs"
      }
    },
    {
      "cell_type": "markdown",
      "source": [
        "For Loop"
      ],
      "metadata": {
        "id": "UsdxU2Sr4tu-"
      }
    },
    {
      "cell_type": "markdown",
      "source": [
        "Exercise 1: Print each fruit in a fruit list:"
      ],
      "metadata": {
        "id": "VhV0pRKl4ztf"
      }
    },
    {
      "cell_type": "code",
      "execution_count": 1,
      "metadata": {
        "colab": {
          "base_uri": "https://localhost:8080/"
        },
        "id": "Xn6lmesy4nt9",
        "outputId": "abf7ade4-3bd2-4e9a-853d-98ef64211211"
      },
      "outputs": [
        {
          "output_type": "stream",
          "name": "stdout",
          "text": [
            "watermelon\n",
            "melon\n",
            "lemons\n"
          ]
        }
      ],
      "source": [
        "fruits = [\"watermelon\", \"melon\", \"lemons\"]\n",
        "for x in fruits:\n",
        "  print(x) "
      ]
    },
    {
      "cell_type": "markdown",
      "source": [
        "Exercise 2: Loop through the letters in the word \"reese\":"
      ],
      "metadata": {
        "id": "IOcgca4H5GqV"
      }
    },
    {
      "cell_type": "code",
      "source": [
        "for x in \"reese\":\n",
        "  print(x) "
      ],
      "metadata": {
        "colab": {
          "base_uri": "https://localhost:8080/"
        },
        "id": "A52DdjgH4r8l",
        "outputId": "468bcbe8-4535-47a9-d52f-a2e3513c38c4"
      },
      "execution_count": 2,
      "outputs": [
        {
          "output_type": "stream",
          "name": "stdout",
          "text": [
            "r\n",
            "e\n",
            "e\n",
            "s\n",
            "e\n"
          ]
        }
      ]
    },
    {
      "cell_type": "markdown",
      "source": [
        "Exercise 3: Exit the loop when x is \"taiwan\":"
      ],
      "metadata": {
        "id": "ruU6OrNy5p8q"
      }
    },
    {
      "cell_type": "code",
      "source": [
        "country = [\"canada\", \"taiwan\", \"china\"]\n",
        "for x in country:\n",
        "  print(x) \n",
        "  if x == \"taiwan\":\n",
        "    break"
      ],
      "metadata": {
        "colab": {
          "base_uri": "https://localhost:8080/"
        },
        "id": "0mDfGpjW4yCM",
        "outputId": "24147f1b-3738-44be-bfa8-996917b86104"
      },
      "execution_count": 6,
      "outputs": [
        {
          "output_type": "stream",
          "name": "stdout",
          "text": [
            "canada\n",
            "taiwan\n"
          ]
        }
      ]
    },
    {
      "cell_type": "markdown",
      "source": [
        "Exercise 4: Exit the loop when x is \"taiwan\", but this time the break comes before the print:"
      ],
      "metadata": {
        "id": "ZZGHLSlW51Tl"
      }
    },
    {
      "cell_type": "code",
      "source": [
        "country = [\"canada\", \"taiwan\", \"china\"]\n",
        "for x in country:\n",
        "  print(x) \n",
        "  if x == \"taiwan\":\n",
        "    break\n",
        "  print(x) "
      ],
      "metadata": {
        "colab": {
          "base_uri": "https://localhost:8080/"
        },
        "id": "YFmuTJ7p5sDi",
        "outputId": "39ed8d64-cf5b-40cf-a317-91ad91237fe1"
      },
      "execution_count": 5,
      "outputs": [
        {
          "output_type": "stream",
          "name": "stdout",
          "text": [
            "canada\n",
            "canada\n",
            "taiwan\n"
          ]
        }
      ]
    },
    {
      "cell_type": "markdown",
      "source": [
        "Exercise 5: Do not print racaza:"
      ],
      "metadata": {
        "id": "hmoWOCWJ6acS"
      }
    },
    {
      "cell_type": "code",
      "source": [
        "names = [\"reese\", \"racaza\", \"nacario\"]\n",
        "for x in names:\n",
        "  if x == \"racaza\":\n",
        "    continue\n",
        "  print(x) "
      ],
      "metadata": {
        "colab": {
          "base_uri": "https://localhost:8080/"
        },
        "id": "x5N-YbQP6kwu",
        "outputId": "f69c4201-c856-41c4-cba6-a60ca88a6473"
      },
      "execution_count": 8,
      "outputs": [
        {
          "output_type": "stream",
          "name": "stdout",
          "text": [
            "reese\n",
            "nacario\n"
          ]
        }
      ]
    },
    {
      "cell_type": "markdown",
      "source": [
        "Exercise 6: Using the range() function:"
      ],
      "metadata": {
        "id": "PFq0Z75w61WJ"
      }
    },
    {
      "cell_type": "code",
      "source": [
        "for x in range(5):\n",
        "  print(x) "
      ],
      "metadata": {
        "colab": {
          "base_uri": "https://localhost:8080/"
        },
        "id": "e27AfbNr66YF",
        "outputId": "95ca32f0-db35-475b-d24a-cc01cc02150c"
      },
      "execution_count": 9,
      "outputs": [
        {
          "output_type": "stream",
          "name": "stdout",
          "text": [
            "0\n",
            "1\n",
            "2\n",
            "3\n",
            "4\n"
          ]
        }
      ]
    },
    {
      "cell_type": "markdown",
      "source": [
        "Exercise 7: Using the start parameter:"
      ],
      "metadata": {
        "id": "0wF9zeFu7A9y"
      }
    },
    {
      "cell_type": "code",
      "source": [
        "for x in range(3, 7):\n",
        "  print(x) "
      ],
      "metadata": {
        "colab": {
          "base_uri": "https://localhost:8080/"
        },
        "id": "EoBHZ7d77BnJ",
        "outputId": "357ad2bb-a45a-4b14-cb12-a6d0bbce4bcd"
      },
      "execution_count": 11,
      "outputs": [
        {
          "output_type": "stream",
          "name": "stdout",
          "text": [
            "3\n",
            "4\n",
            "5\n",
            "6\n"
          ]
        }
      ]
    },
    {
      "cell_type": "markdown",
      "source": [
        "Exercise 8: Increment the sequence with 3 (default is 1):"
      ],
      "metadata": {
        "id": "OFsiEvhD7JCE"
      }
    },
    {
      "cell_type": "code",
      "source": [
        "for x in range(4, 45, 3):\n",
        "  print(x)"
      ],
      "metadata": {
        "colab": {
          "base_uri": "https://localhost:8080/"
        },
        "id": "0lkEWAuA7LT8",
        "outputId": "45d8f44c-2891-45f8-c552-896a84a5d382"
      },
      "execution_count": 12,
      "outputs": [
        {
          "output_type": "stream",
          "name": "stdout",
          "text": [
            "4\n",
            "7\n",
            "10\n",
            "13\n",
            "16\n",
            "19\n",
            "22\n",
            "25\n",
            "28\n",
            "31\n",
            "34\n",
            "37\n",
            "40\n",
            "43\n"
          ]
        }
      ]
    },
    {
      "cell_type": "markdown",
      "source": [
        "Exercise 9: Print all numbers from 0 to 7, and print a message when the loop has ended:\n"
      ],
      "metadata": {
        "id": "Nd4CK3K37PeI"
      }
    },
    {
      "cell_type": "code",
      "source": [
        "for x in range(8):\n",
        "  print(x)\n",
        "else:\n",
        "  print(\"Finally finished!\")"
      ],
      "metadata": {
        "colab": {
          "base_uri": "https://localhost:8080/"
        },
        "id": "ODi3gPYQ7Teo",
        "outputId": "8ebd8e79-0900-445f-b2d8-a29353a518af"
      },
      "execution_count": 13,
      "outputs": [
        {
          "output_type": "stream",
          "name": "stdout",
          "text": [
            "0\n",
            "1\n",
            "2\n",
            "3\n",
            "4\n",
            "5\n",
            "6\n",
            "7\n",
            "Finally finished!\n"
          ]
        }
      ]
    },
    {
      "cell_type": "markdown",
      "source": [
        "Exercise 10: Break the loop when x is 5, and see what happens with the else block:for x in range(8):\n"
      ],
      "metadata": {
        "id": "YOCGZMD17Z_E"
      }
    },
    {
      "cell_type": "code",
      "source": [
        "for x in range(8):\n",
        "  if x == 5: break\n",
        "  print(x)\n",
        "else:\n",
        "  print(\"Finally finished!\")\n",
        "\n",
        "#If the loop breaks, the else block is not executed."
      ],
      "metadata": {
        "colab": {
          "base_uri": "https://localhost:8080/"
        },
        "id": "SQJJA6ke7fYM",
        "outputId": "22c6604b-c068-46fc-e819-6b865aaa0dfb"
      },
      "execution_count": 14,
      "outputs": [
        {
          "output_type": "stream",
          "name": "stdout",
          "text": [
            "0\n",
            "1\n",
            "2\n",
            "3\n",
            "4\n"
          ]
        }
      ]
    },
    {
      "cell_type": "markdown",
      "source": [
        "Exercise 11: Print each adjective for every fruit:"
      ],
      "metadata": {
        "id": "RY1Yai0e7h5O"
      }
    },
    {
      "cell_type": "code",
      "source": [
        "adj = [\"yellow,\", \"fun\", \"fast\"]\n",
        "fruits = [\"grapes\", \"kiwi\", \"lemon\"]\n",
        "\n",
        "for x in adj:\n",
        "  for y in fruits:\n",
        "    print(x, y)"
      ],
      "metadata": {
        "colab": {
          "base_uri": "https://localhost:8080/"
        },
        "id": "ihYB1Aq-7kD0",
        "outputId": "dbceda83-6a48-481f-b63a-e4c554261c43"
      },
      "execution_count": 15,
      "outputs": [
        {
          "output_type": "stream",
          "name": "stdout",
          "text": [
            "yellow, grapes\n",
            "yellow, kiwi\n",
            "yellow, lemon\n",
            "fun grapes\n",
            "fun kiwi\n",
            "fun lemon\n",
            "fast grapes\n",
            "fast kiwi\n",
            "fast lemon\n"
          ]
        }
      ]
    },
    {
      "cell_type": "markdown",
      "source": [
        "Exercise 12: The pass Statement for loops cannot be empty, but if you for some reason have a for loop with no content, put in the pass statement to avoid getting an error."
      ],
      "metadata": {
        "id": "jWsQ1mKm7nLg"
      }
    },
    {
      "cell_type": "code",
      "source": [
        "for x in [0, 1, 2]:\n",
        "  pass"
      ],
      "metadata": {
        "id": "xFA3yVqt7o2O"
      },
      "execution_count": 16,
      "outputs": []
    }
  ]
}